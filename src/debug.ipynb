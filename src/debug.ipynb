{
 "cells": [
  {
   "cell_type": "code",
   "execution_count": 4,
   "metadata": {},
   "outputs": [],
   "source": [
    "\n",
    "import numpy as np\n",
    "from scipy.io import loadmat\n",
    "\n",
    "import os\n",
    "\n",
    "filename= f\"/home/paozival/Projects/TCDS_zyw/results/seed/R2GSTNN_theta.npz\"\n",
    "result = np.load(filename)\n",
    "score_list = result[\"score_list\"]\n",
    "f1_list = result[\"f1_list\"]\n",
    "predict_result = result[\"predict_result\"]\n",
    "target_result = result[\"target_result\"]\n",
    "\n"
   ]
  },
  {
   "cell_type": "code",
   "execution_count": 2,
   "metadata": {},
   "outputs": [
    {
     "name": "stdout",
     "output_type": "stream",
     "text": [
      "/home/paozival/Projects/TCDS_zyw/src\n"
     ]
    }
   ],
   "source": [
    "# acc_mean, f1_mean= np.mean(score_list),np.mean(f1_list)\n",
    "import os\n",
    "print(os.getcwd())"
   ]
  }
 ],
 "metadata": {
  "kernelspec": {
   "display_name": "sarcasm",
   "language": "python",
   "name": "python3"
  },
  "language_info": {
   "codemirror_mode": {
    "name": "ipython",
    "version": 3
   },
   "file_extension": ".py",
   "mimetype": "text/x-python",
   "name": "python",
   "nbconvert_exporter": "python",
   "pygments_lexer": "ipython3",
   "version": "3.9.17"
  }
 },
 "nbformat": 4,
 "nbformat_minor": 2
}
