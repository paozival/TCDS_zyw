{
 "cells": [
  {
   "cell_type": "code",
   "execution_count": 2,
   "metadata": {},
   "outputs": [],
   "source": [
    "\n",
    "import numpy as np\n",
    "from scipy.io import loadmat\n",
    "\n",
    "import os\n",
    "\n",
    "filename= f\"{os.getcwd()}/results/seed_DANN_x.npz\"\n",
    "result = np.load(filename)\n",
    "score_list = result[\"score_list\"]\n",
    "f1_list = result[\"f1_list\"]\n",
    "predict_result = result[\"predict_result\"]\n",
    "target_result = result[\"target_result\"]\n",
    "\n",
    "\n"
   ]
  },
  {
   "cell_type": "code",
   "execution_count": null,
   "metadata": {},
   "outputs": [],
   "source": [
    "acc_mean, f1_mean= np.mean(score_list),np.mean(f1_list)"
   ]
  }
 ],
 "metadata": {
  "kernelspec": {
   "display_name": "sarcasm",
   "language": "python",
   "name": "python3"
  },
  "language_info": {
   "codemirror_mode": {
    "name": "ipython",
    "version": 3
   },
   "file_extension": ".py",
   "mimetype": "text/x-python",
   "name": "python",
   "nbconvert_exporter": "python",
   "pygments_lexer": "ipython3",
   "version": "3.9.16"
  }
 },
 "nbformat": 4,
 "nbformat_minor": 2
}
