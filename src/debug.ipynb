{
 "cells": [
  {
   "cell_type": "code",
   "execution_count": 45,
   "metadata": {},
   "outputs": [
    {
     "name": "stdout",
     "output_type": "stream",
     "text": [
      "35.432102 0.346806845955186\n"
     ]
    }
   ],
   "source": [
    "\n",
    "import numpy as np\n",
    "from scipy.io import loadmat\n",
    "\n",
    "import os\n",
    "\n",
    "current_directory = os.getcwd()\n",
    "parent_directory = os.path.dirname(current_directory)\n",
    "\n",
    "dataset = \"seediv\"\n",
    "method=\"tLSTM\"\n",
    "band_name=\"x\"\n",
    "\n",
    "filename= f\"{parent_directory}/results/{dataset}/{method}_{band_name}.npz\"\n",
    "result = np.load(filename)\n",
    "score_list = result[\"score_list\"]\n",
    "f1_list = result[\"f1_list\"]\n",
    "predict_result = result[\"predict_result\"]\n",
    "target_result = result[\"target_result\"]\n",
    "acc_mean, f1_mean= np.mean(score_list),np.mean(f1_list)\n",
    "print(acc_mean,f1_mean,sep=\" \")\n"
   ]
  }
 ],
 "metadata": {
  "kernelspec": {
   "display_name": "sarcasm",
   "language": "python",
   "name": "python3"
  },
  "language_info": {
   "codemirror_mode": {
    "name": "ipython",
    "version": 3
   },
   "file_extension": ".py",
   "mimetype": "text/x-python",
   "name": "python",
   "nbconvert_exporter": "python",
   "pygments_lexer": "ipython3",
   "version": "3.9.16"
  }
 },
 "nbformat": 4,
 "nbformat_minor": 2
}
